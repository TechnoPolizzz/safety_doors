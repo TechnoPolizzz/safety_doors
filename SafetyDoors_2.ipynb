{
  "nbformat": 4,
  "nbformat_minor": 0,
  "metadata": {
    "colab": {
      "name": "SafetyDoors_1.ipynb",
      "provenance": [],
      "collapsed_sections": [
        "rvqMP3tDuRjQ",
        "foReuEoJgkqP",
        "K19PiV6St77a"
      ],
      "mount_file_id": "1SNdKrykEge44Xyr3mwh6eeAHoXbGqr3X",
      "authorship_tag": "ABX9TyOfayA5SPcaiN3Yjk1AUDlz",
      "include_colab_link": true
    },
    "kernelspec": {
      "name": "python3",
      "display_name": "Python 3"
    },
    "language_info": {
      "name": "python"
    }
  },
  "cells": [
    {
      "cell_type": "markdown",
      "metadata": {
        "id": "view-in-github",
        "colab_type": "text"
      },
      "source": [
        "<a href=\"https://colab.research.google.com/github/TechnoPolizzz/safety_doors/blob/main/SafetyDoors_2.ipynb\" target=\"_parent\"><img src=\"https://colab.research.google.com/assets/colab-badge.svg\" alt=\"Open In Colab\"/></a>"
      ]
    },
    {
      "cell_type": "code",
      "metadata": {
        "id": "VvdbuQ_7i1aF"
      },
      "source": [
        "%%capture\n",
        "!pip install open3d"
      ],
      "execution_count": 1,
      "outputs": []
    },
    {
      "cell_type": "code",
      "metadata": {
        "id": "buClF5edjiCF"
      },
      "source": [
        "import open3d as o3d\n",
        "import cv2\n",
        "import numpy as np"
      ],
      "execution_count": 2,
      "outputs": []
    },
    {
      "cell_type": "code",
      "metadata": {
        "id": "ilNuRXFTtI51"
      },
      "source": [
        "import os\n",
        "from google.colab.patches import cv2_imshow # Позволяет выводить изображения"
      ],
      "execution_count": 3,
      "outputs": []
    },
    {
      "cell_type": "code",
      "metadata": {
        "id": "IDzvuu-fnJEL"
      },
      "source": [
        "import matplotlib.pyplot as plt\n",
        "%matplotlib inline\n",
        "import plotly.graph_objects as go"
      ],
      "execution_count": 4,
      "outputs": []
    },
    {
      "cell_type": "markdown",
      "metadata": {
        "id": "ptdf6qwWuGVM"
      },
      "source": [
        "### Вспомогательные функции"
      ]
    },
    {
      "cell_type": "code",
      "metadata": {
        "id": "o8k_9cvQ8kRu"
      },
      "source": [
        "def joinPath(path_name):\n",
        "  return os.path.join(path_name[\"path\"], path_name[\"name\"])"
      ],
      "execution_count": 5,
      "outputs": []
    },
    {
      "cell_type": "code",
      "metadata": {
        "id": "luO5KJEeoPqj"
      },
      "source": [
        "# Объединение списков без повторений\n",
        "def mergeLists(list1, list2):\n",
        "  return list(set(list1 + list2))"
      ],
      "execution_count": 6,
      "outputs": []
    },
    {
      "cell_type": "markdown",
      "metadata": {
        "id": "rvqMP3tDuRjQ"
      },
      "source": [
        "### Разархивируем датасеты"
      ]
    },
    {
      "cell_type": "code",
      "metadata": {
        "id": "05b-lhK1t-Iu"
      },
      "source": [
        "!unzip /content/drive/MyDrive/technoPolizzz/point_cloud_train.zip"
      ],
      "execution_count": null,
      "outputs": []
    },
    {
      "cell_type": "code",
      "metadata": {
        "id": "LLf3tsBI0ZXw"
      },
      "source": [
        "!mkdir -p pcd/clouds_tof\n",
        "!unzip \"point_cloud_train/clouds_tof/*.zip\" -d pcd/clouds_tof"
      ],
      "execution_count": null,
      "outputs": []
    },
    {
      "cell_type": "code",
      "metadata": {
        "id": "x5G81Mqv2k_Q"
      },
      "source": [
        "!mkdir -p pcd/clouds_stereo\n",
        "!unzip \"point_cloud_train/clouds_stereo/*.zip\" -d pcd/clouds_stereo"
      ],
      "execution_count": null,
      "outputs": []
    },
    {
      "cell_type": "markdown",
      "metadata": {
        "id": "foReuEoJgkqP"
      },
      "source": [
        "### Функции для визуализации"
      ]
    },
    {
      "cell_type": "code",
      "metadata": {
        "id": "ZOFbgXVSczOe"
      },
      "source": [
        "# Создаем mesh из обрамляющего прямоугольника\n",
        "def createMeshFromBB(bb):\n",
        "  bbcloud = o3d.geometry.PointCloud()\n",
        "  bbcloud.points = bb.get_box_points()\n",
        "  bb.color = bb.color\n",
        "  hull, _= bbcloud.compute_convex_hull()\n",
        "  return hull"
      ],
      "execution_count": 7,
      "outputs": []
    },
    {
      "cell_type": "code",
      "metadata": {
        "id": "UX3fOkK7g7EM"
      },
      "source": [
        "def createMeshData(mesh, opacity=0.2):\n",
        "  verts = np.asarray(mesh.vertices)\n",
        "  triangs = np.asarray(mesh.triangles)\n",
        "\n",
        "  mdata = go.Mesh3d(\n",
        "        x=verts[:,0],\n",
        "        y=verts[:,1],\n",
        "        z=verts[:,2],\n",
        "        i = triangs[:,0],\n",
        "        j = triangs[:,1],\n",
        "        k = triangs[:,2],\n",
        "        opacity=opacity,\n",
        "    )\n",
        "  return mdata"
      ],
      "execution_count": 8,
      "outputs": []
    },
    {
      "cell_type": "code",
      "metadata": {
        "id": "QckbggFyhyPm"
      },
      "source": [
        "def createScatter3dData(pcd):\n",
        "  points = np.asarray(pcd.points)\n",
        "  colors = np.asarray(pcd.colors)\n",
        "  scdata = go.Scatter3d(\n",
        "            x=points[:,0], \n",
        "            y=points[:,1], \n",
        "            z=points[:,2], \n",
        "            mode='markers',\n",
        "            marker=dict(size=1, color=colors))\n",
        "  return scdata"
      ],
      "execution_count": 9,
      "outputs": []
    },
    {
      "cell_type": "code",
      "metadata": {
        "id": "Wgne_gXbk35Y"
      },
      "source": [
        "def drawGeometry(geometry, width=800, height=600, title=\"\"):\n",
        "  mydata = []\n",
        "  for g in geometry:\n",
        "    if type(g) is o3d.geometry.PointCloud:\n",
        "      mydata.append(createScatter3dData(g))\n",
        "    elif type(g) is o3d.geometry.AxisAlignedBoundingBox or type(g) is o3d.geometry.OrientedBoundingBox:\n",
        "      m = createMeshFromBB(g)\n",
        "      mydata.append(createMeshData(m))\n",
        "    elif type(g) is o3d.geometry.TriangleMesh:\n",
        "      mydata.append(createMeshData(g))\n",
        "  \n",
        "  fig = go.Figure(\n",
        "    data=mydata,\n",
        "    layout=dict(\n",
        "        width = width,\n",
        "        height = height,\n",
        "        scene=dict(\n",
        "            xaxis=dict(visible=True),\n",
        "            yaxis=dict(visible=True),\n",
        "            zaxis=dict(visible=True)\n",
        "        ),\n",
        "        title=title,\n",
        "    )\n",
        "  )\n",
        "  fig.show()"
      ],
      "execution_count": 10,
      "outputs": []
    },
    {
      "cell_type": "code",
      "metadata": {
        "id": "GCD463GDn_1c"
      },
      "source": [
        "def display_inlier_outlier(cloud, ind, in_color=None, out_color=[1, 0, 0], title=\"\"):\n",
        "    inlier_cloud = cloud.select_by_index(ind)\n",
        "    outlier_cloud = cloud.select_by_index(ind, invert=True)\n",
        "\n",
        "    print(\"Showing outliers (red) and inliers (gray): \")\n",
        "    if not out_color is None:\n",
        "      outlier_cloud.paint_uniform_color(out_color)\n",
        "    if not in_color is None:\n",
        "      inlier_cloud.paint_uniform_color(in_color)\n",
        "    drawGeometry([inlier_cloud, outlier_cloud], title=title)"
      ],
      "execution_count": 11,
      "outputs": []
    },
    {
      "cell_type": "markdown",
      "metadata": {
        "id": "KiWl1TBgAgIH"
      },
      "source": [
        "### Загрузка облаков"
      ]
    },
    {
      "cell_type": "markdown",
      "metadata": {
        "id": "m2i5-EmIAktk"
      },
      "source": [
        "Получаем массивы имен облаков"
      ]
    },
    {
      "cell_type": "code",
      "metadata": {
        "id": "-t9ls9NMtjFM"
      },
      "source": [
        "def getNamePathDict(root_dir):\n",
        "  # Список пар: путь к архиву, имя архива\n",
        "  files = {}\n",
        "  for file in os.listdir(root_dir):\n",
        "    files[file] = []\n",
        "    sub_dir = os.path.join(root_dir, file)\n",
        "    if os.path.isdir(sub_dir):\n",
        "      for subfile in os.listdir(sub_dir):\n",
        "        file_dict = {}\n",
        "        file_dict[\"path\"] = sub_dir\n",
        "        file_dict[\"name\"] = subfile\n",
        "        files[file].append(file_dict)\n",
        "  return files"
      ],
      "execution_count": 12,
      "outputs": []
    },
    {
      "cell_type": "code",
      "metadata": {
        "id": "R4eULyEiAqU1"
      },
      "source": [
        "# Папка с датасетом\n",
        "root_dir = \"/content/pcd\"\n",
        "\n",
        "# Список пар: путь к архиву, имя архива\n",
        "pcd_files = {}\n",
        "for file in os.listdir(root_dir):\n",
        "  pcd_files[file] = []\n",
        "  sub_dir = os.path.join(root_dir, file)\n",
        "  for subfile in os.listdir(sub_dir):\n",
        "    file_dict = {}\n",
        "    file_dict[\"path\"] = sub_dir\n",
        "    file_dict[\"name\"] = subfile\n",
        "    pcd_files[file].append(file_dict)"
      ],
      "execution_count": null,
      "outputs": []
    },
    {
      "cell_type": "code",
      "metadata": {
        "colab": {
          "base_uri": "https://localhost:8080/"
        },
        "id": "8fa5-BUEBLh6",
        "outputId": "a0d0727f-0b24-40f8-b59a-11c2c94138a6"
      },
      "source": [
        "print(pcd_files.keys())"
      ],
      "execution_count": null,
      "outputs": [
        {
          "output_type": "stream",
          "text": [
            "dict_keys(['clouds_stereo', 'clouds_tof'])\n"
          ],
          "name": "stdout"
        }
      ]
    },
    {
      "cell_type": "markdown",
      "metadata": {
        "id": "K19PiV6St77a"
      },
      "source": [
        "### Обработчики облаков точек и кластеров"
      ]
    },
    {
      "cell_type": "markdown",
      "metadata": {
        "id": "WbKKE_ineSDp"
      },
      "source": [
        "Класс для обработки облака точек"
      ]
    },
    {
      "cell_type": "code",
      "metadata": {
        "id": "HTLifM1qeWBF"
      },
      "source": [
        "class CloudProcessor:\n",
        "  def __init__(self, cloud):\n",
        "    self.cloud = cloud\n",
        "\n",
        "  def downsample(self, voxel_size=0.03):\n",
        "    self.cloud = self.cloud.voxel_down_sample(voxel_size=voxel_size)\n",
        "    return self\n",
        "\n",
        "  def alignPlaneWithZ(self, plane):\n",
        "    # Параметры плоскости\n",
        "    [a,b,c,d] = plane\n",
        "    # Ось вращения для совмещения нормали к плоскости с осью z\n",
        "    axis = np.array([b,a,0])\n",
        "    # Угол поворота\n",
        "    angle = np.arccos(c)\n",
        "    # Приводим ось вращения в формат вектора Родриго\n",
        "    axis = (axis / np.linalg.norm(axis)) * angle\n",
        "    # Получаем матрицу поворота вокруг вектора на заданный угол\n",
        "    R = self.cloud.get_rotation_matrix_from_axis_angle(axis)\n",
        "    # Поворачиваем облако\n",
        "    self.cloud.rotate(R, center=(0,0,0))\n",
        "    # Переносим облако для совпадения плоскостей\n",
        "    self.cloud.translate((0,0,d))\n",
        "    return self\n",
        "  \n",
        "  def statisticalFiltration(self, nb_neighbors=20, std_ratio=0.01):\n",
        "    self.cloud, ind_f1 = self.cloud.remove_statistical_outlier(nb_neighbors=nb_neighbors,\n",
        "                                                      std_ratio=std_ratio)\n",
        "    return self\n",
        "\n",
        "  def radialFiltration(self, nb_points=15, radius=0.15):\n",
        "    self.cloud, ind_f2 = self.cloud.remove_radius_outlier(nb_points=nb_points, radius=radius)\n",
        "    return self\n",
        "  \n",
        "  def removePlane(self, distance_threshold=0.04, ransac_n=3, num_iterations=1000):\n",
        "    plane_model, inliers = self.cloud.segment_plane(distance_threshold=0.04,\n",
        "                                          ransac_n=3, num_iterations=1000)\n",
        "    self.cutPoints(inliers, invert=True)\n",
        "    return self\n",
        "\n",
        "  def cutPoints(self, indices, invert=False):\n",
        "    self.cloud = self.cloud.select_by_index(indices, invert=invert)\n",
        "    return self\n",
        "\n",
        "  # Кластеризация с использованием алгоритма DBSCAN\n",
        "  def DbscanClusterization(self, eps=0.1, min_points=10, verbose=False):\n",
        "    # with o3d.utility.VerbosityContextManager(o3d.utility.VerbosityLevel.Debug) as cm:\n",
        "    labels = np.array(self.cloud.cluster_dbscan(eps=eps, min_points=min_points, print_progress=verbose))\n",
        "\n",
        "    max_label = labels.max()\n",
        "    clusters = []\n",
        "    for i in range(max_label + 1):\n",
        "      cluster = o3d.geometry.PointCloud()\n",
        "      cluster.points = o3d.utility.Vector3dVector(np.asarray(self.cloud.points)[labels == i])\n",
        "      cluster.colors = o3d.utility.Vector3dVector(np.asarray(self.cloud.colors)[labels == i])\n",
        "      clusters.append(cluster)\n",
        "\n",
        "    return clusters\n"
      ],
      "execution_count": 13,
      "outputs": []
    },
    {
      "cell_type": "markdown",
      "metadata": {
        "id": "4aHSLHIyxXDM"
      },
      "source": [
        "Класс для обработки кластеров облаков точек"
      ]
    },
    {
      "cell_type": "code",
      "metadata": {
        "id": "iy9wHZ5QxP3M"
      },
      "source": [
        "class ClustersProcessor:\n",
        "  def __init__(self, clusters):\n",
        "    self.clusters = clusters\n",
        "\n",
        "  def filterByNumPoints(self, min_points_num = 80):\n",
        "    filtered_clusters = []\n",
        "    for cl in self.clusters:\n",
        "      if len(cl.points) > min_points_num:\n",
        "        filtered_clusters.append(cl)\n",
        "    self.clusters = filtered_clusters\n",
        "    return self\n",
        "    \n",
        "  def getAABB(self, color = (1, 0, 0)):\n",
        "    bb = []\n",
        "    for cl in self.clusters:\n",
        "      aabb = cl.get_axis_aligned_bounding_box()\n",
        "      aabb.color = color\n",
        "      bb.append(aabb)\n",
        "    return bb\n",
        "\n",
        "  def getOBB(self, color = (1, 0, 0)):\n",
        "    bb = []\n",
        "    for cl in self.clusters:\n",
        "      obb = cl.get_oriented_bounding_box()\n",
        "      obb.color = color\n",
        "      bb.append(obb)\n",
        "    return bb\n",
        "\n",
        "  def createMeshes(self, alpha=0.2):\n",
        "    meshes = []\n",
        "    for cluster in self.clusters:\n",
        "      mesh = o3d.geometry.TriangleMesh.create_from_point_cloud_alpha_shape(cluster, alpha=0.2)\n",
        "      mesh.compute_vertex_normals()\n",
        "      meshes.append(mesh)\n",
        "    return meshes"
      ],
      "execution_count": 14,
      "outputs": []
    },
    {
      "cell_type": "markdown",
      "metadata": {
        "id": "R-gMxTH_UjYt"
      },
      "source": [
        "Функции для опеределения пересечения обрамляющим параллелепипедом плоскости"
      ]
    },
    {
      "cell_type": "code",
      "metadata": {
        "id": "rgYfoHL7DQES"
      },
      "source": [
        "def line_plane_intersect(pointA, pointB, plane_coeff):\n",
        "  # Вычисление коэффициентов прямой\n",
        "  A = pointB[0]-pointA[0]\n",
        "  B = pointB[1]-pointA[1]\n",
        "  C = pointB[2]-pointA[2]\n",
        "  # Свободные коэффициенты\n",
        "  D=(B*pointA[0])-(A*pointA[1])\n",
        "  D2=(C*pointA[0])-(A*pointA[2])\n",
        "  # Матрицы\n",
        "  M1 = np.array([[B, -A, 0], [C, 0 ,-A], [plane_coeff[0], plane_coeff[1], plane_coeff[2]]])\n",
        "  M2 = np.array([[D], [D2], [-plane_coeff[3]]])\n",
        "  # Координата точки пересечения\n",
        "  point_intersect = np.linalg.solve(M1, M2)\n",
        "  return point_intersect"
      ],
      "execution_count": 15,
      "outputs": []
    },
    {
      "cell_type": "code",
      "metadata": {
        "id": "c98oubLdFTPl"
      },
      "source": [
        "def euclideanDistance(pointA, pointB):\n",
        "  dist = np.sqrt((pointB[0]-pointA[0])**2+(pointB[1]-pointA[1])**2+(pointB[2]-pointA[2])**2)\n",
        "  return dist"
      ],
      "execution_count": 16,
      "outputs": []
    },
    {
      "cell_type": "code",
      "metadata": {
        "id": "4MgSYwUyB9UP"
      },
      "source": [
        "# Определяем пересечение ограничивающего прямоугольника с плоскостью\n",
        "def bbox_plane_intersect(bbox_points, bbox_center, plane_coeff):\n",
        "  for i in range(len(bbox_points)):\n",
        "    # Получаем первую точку\n",
        "    pointA = bbox_points[i]\n",
        "    # Координата точки пересечения\n",
        "    x = line_plane_intersect(pointA, bbox_center, plane_coeff)\n",
        "    # Вычисление расстояния от точки пересечения до центра и до края bbox'а\n",
        "    delta1 = euclideanDistance(x, bbox_center)\n",
        "    delta2 = euclideanDistance(pointA, bbox_center)\n",
        "    if delta1 < delta2:\n",
        "      return True\n",
        "  return False"
      ],
      "execution_count": 17,
      "outputs": []
    },
    {
      "cell_type": "markdown",
      "metadata": {
        "id": "f18yh2NdTnco"
      },
      "source": [
        "### Детектирование наличия объектов в области портала двери"
      ]
    },
    {
      "cell_type": "code",
      "metadata": {
        "id": "2qrHVLGMxjQY"
      },
      "source": [
        "def classifyClusters(clusters_obb, height=-1.5):\n",
        "  classes = []\n",
        "  for obb in clusters_obb:\n",
        "    center  = obb.get_center()\n",
        "    if center[2] < height:\n",
        "      classes.append(\"human\")\n",
        "    else:\n",
        "      classes.append(\"other\")\n",
        "  return classes"
      ],
      "execution_count": 18,
      "outputs": []
    },
    {
      "cell_type": "code",
      "metadata": {
        "id": "PjjZzTPbeqfZ"
      },
      "source": [
        "def genAnnotation(path_to_pcd, verbose=False):\n",
        "  # Путь к облаку точек\n",
        "  # path_to_pcd = joinPath(pcd_files['clouds_tof'][index])\n",
        "  # Открываем облако точек\n",
        "  pcd = o3d.io.read_point_cloud(path_to_pcd)\n",
        "  # Выводим количество точек в облаке\n",
        "  if verbose:\n",
        "    print(pcd)\n",
        "  # Flip it, otherwise the pointcloud will be upside down\n",
        "  # pcd.transform([[1, 0, 0, 0], [0, -1, 0, 0], [0, 0, -1, 0], [0, 0, 0, 1]])\n",
        "  # Создаем обработчик облака точек\n",
        "  tof_processor = CloudProcessor(pcd)\n",
        "  # Сжимаем\n",
        "  tof_processor.downsample(voxel_size=0.03)\n",
        "  if verbose:\n",
        "    drawGeometry([tof_processor.cloud])\n",
        "  # Статистическая фильтрация\n",
        "  tof_processor.statisticalFiltration(nb_neighbors=20, std_ratio=0.01)\n",
        "  # Радиальная фильтрация\n",
        "  tof_processor.radialFiltration(nb_points=15, radius=0.2)\n",
        "  # Удаляем наибольшую плоскость\n",
        "  tof_processor.removePlane(distance_threshold=0.04, ransac_n=3, num_iterations=1000)\n",
        "  # Находим следующую наибольшую плоскость (предположительно дверь)\n",
        "  door_plane, inliers = tof_processor.cloud.segment_plane(distance_threshold=0.005, ransac_n=3, num_iterations=1000)\n",
        "  # Выделяем дверь из облака точек\n",
        "  door_cloud = tof_processor.cloud.select_by_index(inliers)\n",
        "  # Запоминаем обрамляющий прямоугольник двери\n",
        "  door_bb = door_cloud.get_axis_aligned_bounding_box()\n",
        "  # Удаляем задетектированную дверь\n",
        "  tof_processor.cutPoints(inliers, invert=True)\n",
        "  # Детектируем кластеры\n",
        "  tof_clusters = ClustersProcessor(tof_processor.DbscanClusterization(eps=0.1, min_points=10, verbose=False))\n",
        "  # Фильтруем кластеры по количеству точек в них\n",
        "  tof_clusters = tof_clusters.filterByNumPoints()\n",
        "  # Создаем mesh'и кластеров\n",
        "  clusters_meshes = tof_clusters.createMeshes(alpha=0.1)\n",
        "  # Создаем mesh портала двери\n",
        "  door_mesh = createMeshFromBB(door_bb)\n",
        "  # Вычисляем количество пересечений объектов с порталом двери\n",
        "  intersections = [mesh.is_intersecting(door_mesh) for mesh in clusters_meshes]\n",
        "  # Выводим массив пересечений с порталом\n",
        "  if verbose:\n",
        "    print(intersections)\n",
        "  # Отображаем кластеры и портал двери\n",
        "  if verbose:\n",
        "    drawGeometry(clusters_meshes + [door_mesh])\n",
        "  return tof_clusters.getOBB()"
      ],
      "execution_count": 19,
      "outputs": []
    },
    {
      "cell_type": "markdown",
      "metadata": {
        "id": "SFjH2l9hodYn"
      },
      "source": [
        "### Генерирование аннотаций к облакам"
      ]
    },
    {
      "cell_type": "code",
      "metadata": {
        "id": "oR4BbcmJ0knT"
      },
      "source": [
        "# Checks if a matrix is a valid rotation matrix.\n",
        "import math\n",
        "def isRotationMatrix(R) :\n",
        "    Rt = np.transpose(R)\n",
        "    shouldBeIdentity = np.dot(Rt, R)\n",
        "    I = np.identity(3, dtype = R.dtype)\n",
        "    n = np.linalg.norm(I - shouldBeIdentity)\n",
        "    return n < 1e-6\n",
        "# Calculates rotation matrix to euler angles\n",
        "# The result is the same as MATLAB except the order\n",
        "# of the euler angles ( x and z are swapped ).\n",
        "def rotationMatrixToEulerAngles(R) :\n",
        "    assert(isRotationMatrix(R))\n",
        "    sy = math.sqrt(R[0,0] * R[0,0] +  R[1,0] * R[1,0])\n",
        "    singular = sy < 1e-6\n",
        "    if  not singular :\n",
        "        x = math.atan2(R[2,1] , R[2,2])\n",
        "        y = math.atan2(-R[2,0], sy)\n",
        "        z = math.atan2(R[1,0], R[0,0])\n",
        "    else :\n",
        "        x = math.atan2(-R[1,2], R[1,1])\n",
        "        y = math.atan2(-R[2,0], sy)\n",
        "        z = 0\n",
        "    return np.array([x, y, z])"
      ],
      "execution_count": 20,
      "outputs": []
    },
    {
      "cell_type": "code",
      "metadata": {
        "id": "QvA8ffa8xMn2"
      },
      "source": [
        "# Генерирует аннотацию к кластерам\n",
        "def obb2json(obbs, classes):\n",
        "  json_data = {'figures': []}\n",
        "  for i, obb in enumerate(obbs):\n",
        "    pos_x, pos_y, pos_z = obb.get_center()\n",
        "    rot_x, rot_y, rot_z = rotationMatrixToEulerAngles(obb.R)\n",
        "    dim_x, dim_y, dim_z = obb.extent\n",
        "    pos = {'x': pos_x, 'y': pos_y, 'z': pos_z}\n",
        "    rot = {'x': rot_x, 'y': rot_y, 'z': rot_z}\n",
        "    dim = {'x': dim_x, 'y': dim_y, 'z': dim_z}\n",
        "    geometry = {'position': pos, 'rotation': rot, 'dimensions': dim}\n",
        "    json_data['figures'].append({'object': classes[i], 'geometry': geometry})\n",
        "  return json_data"
      ],
      "execution_count": 21,
      "outputs": []
    },
    {
      "cell_type": "code",
      "metadata": {
        "colab": {
          "base_uri": "https://localhost:8080/",
          "height": 231
        },
        "id": "JEd_pZ0C0PVo",
        "outputId": "845efad8-b1f5-4dc9-c546-f44d689bcb65"
      },
      "source": [
        "dir = \"annotations/clouds_tof\"\n",
        "for i in range(len(pcd_files['clouds_tof'])):\n",
        "  data = str(obb2json(genAnnotation(i)))\n",
        "  file_name = os.path.join(dir, pcd_files['clouds_tof'][i][\"name\"] + \".json\")\n",
        "  with open (file_name, \"w\") as myfile:\n",
        "    myfile.write(data)"
      ],
      "execution_count": 22,
      "outputs": [
        {
          "output_type": "error",
          "ename": "NameError",
          "evalue": "ignored",
          "traceback": [
            "\u001b[0;31m---------------------------------------------------------------------------\u001b[0m",
            "\u001b[0;31mNameError\u001b[0m                                 Traceback (most recent call last)",
            "\u001b[0;32m<ipython-input-22-e1b5aae13ccd>\u001b[0m in \u001b[0;36m<module>\u001b[0;34m()\u001b[0m\n\u001b[1;32m      1\u001b[0m \u001b[0mdir\u001b[0m \u001b[0;34m=\u001b[0m \u001b[0;34m\"annotations/clouds_tof\"\u001b[0m\u001b[0;34m\u001b[0m\u001b[0;34m\u001b[0m\u001b[0m\n\u001b[0;32m----> 2\u001b[0;31m \u001b[0;32mfor\u001b[0m \u001b[0mi\u001b[0m \u001b[0;32min\u001b[0m \u001b[0mrange\u001b[0m\u001b[0;34m(\u001b[0m\u001b[0mlen\u001b[0m\u001b[0;34m(\u001b[0m\u001b[0mpcd_files\u001b[0m\u001b[0;34m[\u001b[0m\u001b[0;34m'clouds_tof'\u001b[0m\u001b[0;34m]\u001b[0m\u001b[0;34m)\u001b[0m\u001b[0;34m)\u001b[0m\u001b[0;34m:\u001b[0m\u001b[0;34m\u001b[0m\u001b[0;34m\u001b[0m\u001b[0m\n\u001b[0m\u001b[1;32m      3\u001b[0m   \u001b[0mdata\u001b[0m \u001b[0;34m=\u001b[0m \u001b[0mstr\u001b[0m\u001b[0;34m(\u001b[0m\u001b[0mobb2json\u001b[0m\u001b[0;34m(\u001b[0m\u001b[0mgenAnnotation\u001b[0m\u001b[0;34m(\u001b[0m\u001b[0mi\u001b[0m\u001b[0;34m)\u001b[0m\u001b[0;34m)\u001b[0m\u001b[0;34m)\u001b[0m\u001b[0;34m\u001b[0m\u001b[0;34m\u001b[0m\u001b[0m\n\u001b[1;32m      4\u001b[0m   \u001b[0mfile_name\u001b[0m \u001b[0;34m=\u001b[0m \u001b[0mos\u001b[0m\u001b[0;34m.\u001b[0m\u001b[0mpath\u001b[0m\u001b[0;34m.\u001b[0m\u001b[0mjoin\u001b[0m\u001b[0;34m(\u001b[0m\u001b[0mdir\u001b[0m\u001b[0;34m,\u001b[0m \u001b[0mpcd_files\u001b[0m\u001b[0;34m[\u001b[0m\u001b[0;34m'clouds_tof'\u001b[0m\u001b[0;34m]\u001b[0m\u001b[0;34m[\u001b[0m\u001b[0mi\u001b[0m\u001b[0;34m]\u001b[0m\u001b[0;34m[\u001b[0m\u001b[0;34m\"name\"\u001b[0m\u001b[0;34m]\u001b[0m \u001b[0;34m+\u001b[0m \u001b[0;34m\".json\"\u001b[0m\u001b[0;34m)\u001b[0m\u001b[0;34m\u001b[0m\u001b[0;34m\u001b[0m\u001b[0m\n\u001b[1;32m      5\u001b[0m   \u001b[0;32mwith\u001b[0m \u001b[0mopen\u001b[0m \u001b[0;34m(\u001b[0m\u001b[0mfile_name\u001b[0m\u001b[0;34m,\u001b[0m \u001b[0;34m\"w\"\u001b[0m\u001b[0;34m)\u001b[0m \u001b[0;32mas\u001b[0m \u001b[0mmyfile\u001b[0m\u001b[0;34m:\u001b[0m\u001b[0;34m\u001b[0m\u001b[0;34m\u001b[0m\u001b[0m\n",
            "\u001b[0;31mNameError\u001b[0m: name 'pcd_files' is not defined"
          ]
        }
      ]
    },
    {
      "cell_type": "markdown",
      "metadata": {
        "id": "i0iIF9Xyoo1v"
      },
      "source": [
        "### Работа с тестовым датасетом"
      ]
    },
    {
      "cell_type": "markdown",
      "metadata": {
        "id": "4V1PQ_3t54Vl"
      },
      "source": [
        "Распаковываем архив и облака точек в нем"
      ]
    },
    {
      "cell_type": "code",
      "metadata": {
        "id": "2vJZsKti7GpN"
      },
      "source": [
        "!unzip /content/drive/MyDrive/technoPolizzz/point_end.zip"
      ],
      "execution_count": null,
      "outputs": []
    },
    {
      "cell_type": "code",
      "metadata": {
        "id": "Oc3_msVroz16"
      },
      "source": [
        "!unzip \"point_end/clouds_tof/*.zip\" -d point_end/clouds_tof/\n",
        "!unzip \"point_end/clouds_stereo/*.zip\" -d point_end/clouds_stereo/"
      ],
      "execution_count": null,
      "outputs": []
    },
    {
      "cell_type": "markdown",
      "metadata": {
        "id": "Ir2L_1O-6ROB"
      },
      "source": [
        "Удаляем zip-файлы"
      ]
    },
    {
      "cell_type": "code",
      "metadata": {
        "colab": {
          "base_uri": "https://localhost:8080/"
        },
        "id": "JmsYT2ZxrTZj",
        "outputId": "af6466c3-d164-4eb2-f3bc-206d0024c986"
      },
      "source": [
        "!rm point_end/clouds_tof/*.zip\n",
        "!rm point_end/clouds_stereo/*.zip"
      ],
      "execution_count": 13,
      "outputs": [
        {
          "output_type": "stream",
          "text": [
            "rm: cannot remove 'point_end/clouds_tof/*.zip': No such file or directory\n"
          ],
          "name": "stdout"
        }
      ]
    },
    {
      "cell_type": "markdown",
      "metadata": {
        "id": "TlbNMUmF6VBc"
      },
      "source": [
        "Получаем имена всех файлов в тестовом датасете и пути к ним"
      ]
    },
    {
      "cell_type": "code",
      "metadata": {
        "colab": {
          "base_uri": "https://localhost:8080/"
        },
        "id": "Ld6ncCy8snxm",
        "outputId": "20eb2252-e000-4732-e1e6-b2da86d9ba87"
      },
      "source": [
        "pcd_files = getNamePathDict(\"/content/point_end\")\n",
        "print(pcd_files.keys())"
      ],
      "execution_count": 23,
      "outputs": [
        {
          "output_type": "stream",
          "text": [
            "dict_keys(['clouds_tof_ann', 'clouds_stereo', 'img', 'clouds_stereo_ann', 'key_id_map.json', 'meta.json', 'clouds_tof', 'door_state.txt'])\n"
          ],
          "name": "stdout"
        }
      ]
    },
    {
      "cell_type": "markdown",
      "metadata": {
        "id": "66ykz_756aUP"
      },
      "source": [
        "Генерируем аннотацию к данным"
      ]
    },
    {
      "cell_type": "code",
      "metadata": {
        "id": "ZBEbKm2D19FS"
      },
      "source": [
        "!mkdir -p annotations_test/clouds_stereo"
      ],
      "execution_count": 24,
      "outputs": []
    },
    {
      "cell_type": "code",
      "metadata": {
        "id": "raECmrkduqcE"
      },
      "source": [
        "clouds_type = \"clouds_stereo\"\n",
        "dir = \"annotations_test/\" + clouds_type\n",
        "for i in range(len(pcd_files[clouds_type])):\n",
        "  try:\n",
        "    print(i)\n",
        "    # Путь к облаку\n",
        "    path_to_pcd = joinPath(pcd_files[clouds_type][i])\n",
        "    # Получаем ориентированные обрамляющие прямоугольники\n",
        "    clusters_obb = genAnnotation(path_to_pcd, verbose=False)\n",
        "    # Классифицируем кластеры\n",
        "    classes = classifyClusters(clusters_obb, height=4)\n",
        "    # Генерируем json-аннотацию\n",
        "    jsondata = obb2json(clusters_obb, classes)\n",
        "    data = str(jsondata)\n",
        "    # Формируем путь к файлу аннотации\n",
        "    file_name = os.path.join(dir, pcd_files[clouds_type][i][\"name\"] + \".json\")\n",
        "    # Записываем json-аннотацию в файл\n",
        "    with open (file_name, \"w\") as myfile:\n",
        "      myfile.write(data)\n",
        "  except:\n",
        "    print(\"Error on: \", i)\n",
        "    pass"
      ],
      "execution_count": null,
      "outputs": []
    },
    {
      "cell_type": "markdown",
      "metadata": {
        "id": "BuVoS_wY9hHP"
      },
      "source": [
        "Заменяем в аннотации одинарные кавычки на двойные"
      ]
    },
    {
      "cell_type": "code",
      "metadata": {
        "id": "jn7hH_xs5FsW"
      },
      "source": [
        "!sed -i \"s/'/\\\"/g\"  /content/annotations_test/clouds_stereo/*.json"
      ],
      "execution_count": 27,
      "outputs": []
    },
    {
      "cell_type": "markdown",
      "metadata": {
        "id": "D5_4ZCoS6goQ"
      },
      "source": [
        "Сохраняем сгенерированную аннотацию в архив"
      ]
    },
    {
      "cell_type": "code",
      "metadata": {
        "id": "42oX8aS62oGB"
      },
      "source": [
        "!zip -r annotations_test_unflipped.zip annotations_test/"
      ],
      "execution_count": null,
      "outputs": []
    },
    {
      "cell_type": "code",
      "metadata": {
        "id": "Gxmo5YqqF5Qp"
      },
      "source": [
        ""
      ],
      "execution_count": null,
      "outputs": []
    }
  ]
}